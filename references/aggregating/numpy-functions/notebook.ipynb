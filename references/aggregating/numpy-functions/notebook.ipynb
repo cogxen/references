{
 "cells": [
  {
   "cell_type": "markdown",
   "id": "da422531",
   "metadata": {},
   "source": [
    "#### Setup"
   ]
  },
  {
   "cell_type": "markdown",
   "id": "581068b7",
   "metadata": {},
   "source": [
    "Start by running the cell below to import `pandas`, `numpy`, and the `results.csv` dataset."
   ]
  },
  {
   "cell_type": "code",
   "execution_count": 1,
   "id": "047d9dc9",
   "metadata": {
    "deletable": false,
    "tags": [
     "setup"
    ]
   },
   "outputs": [
    {
     "data": {
      "text/html": [
       "<div>\n",
       "<style scoped>\n",
       "    .dataframe tbody tr th:only-of-type {\n",
       "        vertical-align: middle;\n",
       "    }\n",
       "\n",
       "    .dataframe tbody tr th {\n",
       "        vertical-align: top;\n",
       "    }\n",
       "\n",
       "    .dataframe thead th {\n",
       "        text-align: right;\n",
       "    }\n",
       "</style>\n",
       "<table border=\"1\" class=\"dataframe\">\n",
       "  <thead>\n",
       "    <tr style=\"text-align: right;\">\n",
       "      <th></th>\n",
       "      <th>date</th>\n",
       "      <th>year</th>\n",
       "      <th>home_team</th>\n",
       "      <th>away_team</th>\n",
       "      <th>home_score</th>\n",
       "      <th>away_score</th>\n",
       "      <th>total_goals</th>\n",
       "      <th>win_margin</th>\n",
       "      <th>tournament</th>\n",
       "      <th>city</th>\n",
       "      <th>country</th>\n",
       "      <th>neutral</th>\n",
       "    </tr>\n",
       "  </thead>\n",
       "  <tbody>\n",
       "    <tr>\n",
       "      <th>0</th>\n",
       "      <td>2000-01-04</td>\n",
       "      <td>2000</td>\n",
       "      <td>Egypt</td>\n",
       "      <td>Togo</td>\n",
       "      <td>2</td>\n",
       "      <td>1</td>\n",
       "      <td>3</td>\n",
       "      <td>1</td>\n",
       "      <td>Friendly</td>\n",
       "      <td>Aswan</td>\n",
       "      <td>Egypt</td>\n",
       "      <td>False</td>\n",
       "    </tr>\n",
       "    <tr>\n",
       "      <th>1</th>\n",
       "      <td>2000-01-07</td>\n",
       "      <td>2000</td>\n",
       "      <td>Tunisia</td>\n",
       "      <td>Togo</td>\n",
       "      <td>7</td>\n",
       "      <td>0</td>\n",
       "      <td>7</td>\n",
       "      <td>7</td>\n",
       "      <td>Friendly</td>\n",
       "      <td>Tunis</td>\n",
       "      <td>Tunisia</td>\n",
       "      <td>False</td>\n",
       "    </tr>\n",
       "    <tr>\n",
       "      <th>2</th>\n",
       "      <td>2000-01-08</td>\n",
       "      <td>2000</td>\n",
       "      <td>Trinidad and Tobago</td>\n",
       "      <td>Canada</td>\n",
       "      <td>0</td>\n",
       "      <td>0</td>\n",
       "      <td>0</td>\n",
       "      <td>0</td>\n",
       "      <td>Friendly</td>\n",
       "      <td>Port of Spain</td>\n",
       "      <td>Trinidad and Tobago</td>\n",
       "      <td>False</td>\n",
       "    </tr>\n",
       "    <tr>\n",
       "      <th>3</th>\n",
       "      <td>2000-01-09</td>\n",
       "      <td>2000</td>\n",
       "      <td>Burkina Faso</td>\n",
       "      <td>Gabon</td>\n",
       "      <td>1</td>\n",
       "      <td>1</td>\n",
       "      <td>2</td>\n",
       "      <td>0</td>\n",
       "      <td>Friendly</td>\n",
       "      <td>Ouagadougou</td>\n",
       "      <td>Burkina Faso</td>\n",
       "      <td>False</td>\n",
       "    </tr>\n",
       "    <tr>\n",
       "      <th>4</th>\n",
       "      <td>2000-01-09</td>\n",
       "      <td>2000</td>\n",
       "      <td>Guatemala</td>\n",
       "      <td>Armenia</td>\n",
       "      <td>1</td>\n",
       "      <td>1</td>\n",
       "      <td>2</td>\n",
       "      <td>0</td>\n",
       "      <td>Friendly</td>\n",
       "      <td>Los Angeles</td>\n",
       "      <td>United States</td>\n",
       "      <td>True</td>\n",
       "    </tr>\n",
       "  </tbody>\n",
       "</table>\n",
       "</div>"
      ],
      "text/plain": [
       "         date  year            home_team away_team  home_score  away_score  \\\n",
       "0  2000-01-04  2000                Egypt      Togo           2           1   \n",
       "1  2000-01-07  2000              Tunisia      Togo           7           0   \n",
       "2  2000-01-08  2000  Trinidad and Tobago    Canada           0           0   \n",
       "3  2000-01-09  2000         Burkina Faso     Gabon           1           1   \n",
       "4  2000-01-09  2000            Guatemala   Armenia           1           1   \n",
       "\n",
       "   total_goals  win_margin tournament           city              country  \\\n",
       "0            3           1   Friendly          Aswan                Egypt   \n",
       "1            7           7   Friendly          Tunis              Tunisia   \n",
       "2            0           0   Friendly  Port of Spain  Trinidad and Tobago   \n",
       "3            2           0   Friendly    Ouagadougou         Burkina Faso   \n",
       "4            2           0   Friendly    Los Angeles        United States   \n",
       "\n",
       "   neutral  \n",
       "0    False  \n",
       "1    False  \n",
       "2    False  \n",
       "3    False  \n",
       "4     True  "
      ]
     },
     "execution_count": 1,
     "metadata": {},
     "output_type": "execute_result"
    }
   ],
   "source": [
    "import pandas as pd\n",
    "import numpy as np\n",
    "\n",
    "results = pd.read_csv('results.csv')\n",
    "results.head()"
   ]
  },
  {
   "cell_type": "markdown",
   "id": "f0830124",
   "metadata": {},
   "source": [
    "#### Narrative Example"
   ]
  },
  {
   "cell_type": "markdown",
   "id": "c5b98c1a",
   "metadata": {},
   "source": [
    "The cell below generates the example from the exercise narrative."
   ]
  },
  {
   "cell_type": "code",
   "execution_count": 2,
   "id": "0b428d81",
   "metadata": {},
   "outputs": [
    {
     "name": "stdout",
     "output_type": "stream",
     "text": [
      "1.5965486984498392\n",
      "1.5965486984498392\n"
     ]
    }
   ],
   "source": [
    "# using pandas\n",
    "pandas_mean = results['home_score'].mean()\n",
    "\n",
    "# using numpy\n",
    "numpy_mean = np.mean(results['home_score'])\n",
    "\n",
    "print(pandas_mean)\n",
    "print(numpy_mean)"
   ]
  },
  {
   "cell_type": "markdown",
   "id": "079e0e0c",
   "metadata": {},
   "source": [
    "#### 1. Mean `total_goals`"
   ]
  },
  {
   "cell_type": "markdown",
   "id": "7220fccc",
   "metadata": {},
   "source": [
    " Use NumPy to calculate the mean `total_goals` across all matches.\n",
    " \n",
    " Save the mean value to a variable named `mean_total_goals`. "
   ]
  },
  {
   "cell_type": "code",
   "execution_count": 3,
   "id": "b318baec",
   "metadata": {
    "deletable": false,
    "tags": [
     "cp1"
    ]
   },
   "outputs": [
    {
     "data": {
      "text/plain": [
       "2.642819537876572"
      ]
     },
     "execution_count": 3,
     "metadata": {},
     "output_type": "execute_result"
    }
   ],
   "source": [
    "## YOUR SOLUTION HERE ##\n",
    "mean_total_goals = np.mean(results['total_goals']) \n",
    "\n",
    "# show output\n",
    "mean_total_goals"
   ]
  },
  {
   "cell_type": "markdown",
   "id": "6a172e5e",
   "metadata": {},
   "source": [
    "#### 2. Largest win margin by the home team"
   ]
  },
  {
   "cell_type": "markdown",
   "id": "4c282fd4",
   "metadata": {},
   "source": [
    "Use NumPy to calculate the largest home `win_margin`. Assign the result to `largest_win_home`."
   ]
  },
  {
   "cell_type": "code",
   "execution_count": 4,
   "id": "e73ed471",
   "metadata": {
    "deletable": false,
    "tags": [
     "cp2"
    ]
   },
   "outputs": [
    {
     "data": {
      "text/plain": [
       "31"
      ]
     },
     "execution_count": 4,
     "metadata": {},
     "output_type": "execute_result"
    }
   ],
   "source": [
    "## YOUR SOLUTION HERE ##\n",
    "largest_win_home = np.max(results['win_margin']) \n",
    "# show output\n",
    "largest_win_home"
   ]
  }
 ],
 "metadata": {
  "kernelspec": {
   "display_name": "Python 3 (ipykernel)",
   "language": "python",
   "name": "python3"
  },
  "language_info": {
   "codemirror_mode": {
    "name": "ipython",
    "version": 3
   },
   "file_extension": ".py",
   "mimetype": "text/x-python",
   "name": "python",
   "nbconvert_exporter": "python",
   "pygments_lexer": "ipython3",
   "version": "3.8.10"
  }
 },
 "nbformat": 4,
 "nbformat_minor": 5
}
