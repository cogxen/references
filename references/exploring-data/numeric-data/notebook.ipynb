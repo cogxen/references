{
 "cells": [
  {
   "cell_type": "markdown",
   "id": "4c609b12",
   "metadata": {},
   "source": [
    "Setup."
   ]
  },
  {
   "cell_type": "code",
   "execution_count": 1,
   "id": "047d9dc9",
   "metadata": {
    "deletable": false,
    "tags": [
     "setup"
    ]
   },
   "outputs": [
    {
     "data": {
      "text/html": [
       "<div>\n",
       "<style scoped>\n",
       "    .dataframe tbody tr th:only-of-type {\n",
       "        vertical-align: middle;\n",
       "    }\n",
       "\n",
       "    .dataframe tbody tr th {\n",
       "        vertical-align: top;\n",
       "    }\n",
       "\n",
       "    .dataframe thead th {\n",
       "        text-align: right;\n",
       "    }\n",
       "</style>\n",
       "<table border=\"1\" class=\"dataframe\">\n",
       "  <thead>\n",
       "    <tr style=\"text-align: right;\">\n",
       "      <th></th>\n",
       "      <th>country</th>\n",
       "      <th>product_category</th>\n",
       "      <th>brand</th>\n",
       "      <th>year_of_manufacture</th>\n",
       "      <th>product_age</th>\n",
       "      <th>repair_status</th>\n",
       "      <th>year_repaired</th>\n",
       "    </tr>\n",
       "  </thead>\n",
       "  <tbody>\n",
       "    <tr>\n",
       "      <th>0</th>\n",
       "      <td>gbr</td>\n",
       "      <td>aircon/dehumidifier</td>\n",
       "      <td>delonghi</td>\n",
       "      <td>2013.0</td>\n",
       "      <td>6.0</td>\n",
       "      <td>end of life</td>\n",
       "      <td>2019</td>\n",
       "    </tr>\n",
       "    <tr>\n",
       "      <th>1</th>\n",
       "      <td>nld</td>\n",
       "      <td>kettle</td>\n",
       "      <td>royal swiss</td>\n",
       "      <td>2019.0</td>\n",
       "      <td>0.0</td>\n",
       "      <td>fixed</td>\n",
       "      <td>2019</td>\n",
       "    </tr>\n",
       "    <tr>\n",
       "      <th>2</th>\n",
       "      <td>swe</td>\n",
       "      <td>mobile</td>\n",
       "      <td>apple</td>\n",
       "      <td>2015.0</td>\n",
       "      <td>3.0</td>\n",
       "      <td>repairable</td>\n",
       "      <td>2018</td>\n",
       "    </tr>\n",
       "    <tr>\n",
       "      <th>3</th>\n",
       "      <td>ita</td>\n",
       "      <td>desktop computer</td>\n",
       "      <td>dell</td>\n",
       "      <td>2011.0</td>\n",
       "      <td>10.0</td>\n",
       "      <td>fixed</td>\n",
       "      <td>2021</td>\n",
       "    </tr>\n",
       "    <tr>\n",
       "      <th>4</th>\n",
       "      <td>bel</td>\n",
       "      <td>power tool</td>\n",
       "      <td>makita</td>\n",
       "      <td>2015.0</td>\n",
       "      <td>4.0</td>\n",
       "      <td>end of life</td>\n",
       "      <td>2019</td>\n",
       "    </tr>\n",
       "  </tbody>\n",
       "</table>\n",
       "</div>"
      ],
      "text/plain": [
       "  country     product_category        brand  year_of_manufacture  product_age  \\\n",
       "0     gbr  aircon/dehumidifier     delonghi               2013.0          6.0   \n",
       "1     nld               kettle  royal swiss               2019.0          0.0   \n",
       "2     swe               mobile        apple               2015.0          3.0   \n",
       "3     ita     desktop computer         dell               2011.0         10.0   \n",
       "4     bel           power tool       makita               2015.0          4.0   \n",
       "\n",
       "  repair_status  year_repaired  \n",
       "0   end of life           2019  \n",
       "1         fixed           2019  \n",
       "2    repairable           2018  \n",
       "3         fixed           2021  \n",
       "4   end of life           2019  "
      ]
     },
     "execution_count": 1,
     "metadata": {},
     "output_type": "execute_result"
    }
   ],
   "source": [
    "import pandas as pd\n",
    "repair = pd.read_csv('repair.csv')\n",
    "repair.head()"
   ]
  },
  {
   "cell_type": "markdown",
   "id": "079e0e0c",
   "metadata": {},
   "source": [
    "1. Call `.describe()` on `year_of_manufacture` and assign to `manufacture_year_description`"
   ]
  },
  {
   "cell_type": "code",
   "execution_count": 2,
   "id": "b318baec",
   "metadata": {
    "deletable": false,
    "tags": [
     "cp1"
    ]
   },
   "outputs": [
    {
     "data": {
      "text/plain": [
       "count    21823.000000\n",
       "mean      2007.142419\n",
       "std         14.652976\n",
       "min       1900.000000\n",
       "25%       2004.000000\n",
       "50%       2012.000000\n",
       "75%       2016.000000\n",
       "max       2022.000000\n",
       "Name: year_of_manufacture, dtype: float64"
      ]
     },
     "execution_count": 2,
     "metadata": {},
     "output_type": "execute_result"
    }
   ],
   "source": [
    "## YOUR SOLUTION HERE ##\n",
    "manufacture_year_description = repair['year_of_manufacture'].describe()\n",
    "\n",
    "# show output\n",
    "manufacture_year_description"
   ]
  },
  {
   "cell_type": "markdown",
   "id": "6a172e5e",
   "metadata": {},
   "source": [
    "2. Use `.describe()` to find out how many unique brands appear in the dataset. Assign the results to `brand_description`."
   ]
  },
  {
   "cell_type": "code",
   "execution_count": 3,
   "id": "e73ed471",
   "metadata": {
    "deletable": false,
    "tags": [
     "cp2"
    ]
   },
   "outputs": [
    {
     "data": {
      "text/plain": [
       "count       62092\n",
       "unique       4628\n",
       "top       unknown\n",
       "freq        25961\n",
       "Name: brand, dtype: object"
      ]
     },
     "execution_count": 3,
     "metadata": {},
     "output_type": "execute_result"
    }
   ],
   "source": [
    "## YOUR SOLUTION HERE ##\n",
    "brand_description = repair['brand'].describe()\n",
    "\n",
    "# show output\n",
    "brand_description"
   ]
  }
 ],
 "metadata": {
  "kernelspec": {
   "display_name": "Python 3 (ipykernel)",
   "language": "python",
   "name": "python3"
  },
  "language_info": {
   "codemirror_mode": {
    "name": "ipython",
    "version": 3
   },
   "file_extension": ".py",
   "mimetype": "text/x-python",
   "name": "python",
   "nbconvert_exporter": "python",
   "pygments_lexer": "ipython3",
   "version": "3.8.10"
  }
 },
 "nbformat": 4,
 "nbformat_minor": 5
}
