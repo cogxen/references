{
 "cells": [
  {
   "cell_type": "markdown",
   "id": "079e0e0c",
   "metadata": {},
   "source": [
    "1. Create a `kitchen` dictionary recording the `3635` coffee makers, `2450` food processors, and `1282` kettles."
   ]
  },
  {
   "cell_type": "code",
   "execution_count": 1,
   "id": "b318baec",
   "metadata": {
    "deletable": false,
    "tags": [
     "cp1"
    ]
   },
   "outputs": [
    {
     "data": {
      "text/plain": [
       "{'coffee makers': 3635, 'food processors': 2450, 'kettles': 1282}"
      ]
     },
     "execution_count": 1,
     "metadata": {},
     "output_type": "execute_result"
    }
   ],
   "source": [
    "## YOUR SOLUTION HERE ##\n",
    "kitchen = {\n",
    "  'coffee makers':3635,\n",
    "  'food processors':2450,\n",
    "  'kettles':1282 }\n",
    "\n",
    "# show output\n",
    "kitchen"
   ]
  },
  {
   "cell_type": "markdown",
   "id": "6a172e5e",
   "metadata": {},
   "source": [
    "2. Modify the `kitchen` dictionary to have two additional coffee makers."
   ]
  },
  {
   "cell_type": "code",
   "execution_count": 2,
   "id": "e73ed471",
   "metadata": {
    "deletable": false,
    "tags": [
     "cp2"
    ]
   },
   "outputs": [
    {
     "data": {
      "text/plain": [
       "{'coffee makers': 3637, 'food processors': 2450, 'kettles': 1282}"
      ]
     },
     "execution_count": 2,
     "metadata": {},
     "output_type": "execute_result"
    }
   ],
   "source": [
    "## YOUR SOLUTION HERE ##\n",
    "kitchen['coffee makers'] = 3637\n",
    "\n",
    "# optional: show output\n",
    "kitchen"
   ]
  },
  {
   "cell_type": "markdown",
   "id": "8d481799",
   "metadata": {},
   "source": [
    "3. Add `910` toasters to the `kitchen` dictionary."
   ]
  },
  {
   "cell_type": "code",
   "execution_count": 3,
   "id": "4ddf801b",
   "metadata": {
    "deletable": false,
    "tags": [
     "cp3"
    ]
   },
   "outputs": [
    {
     "data": {
      "text/plain": [
       "{'coffee makers': 3637,\n",
       " 'food processors': 2450,\n",
       " 'kettles': 1282,\n",
       " 'toasters': 910}"
      ]
     },
     "execution_count": 3,
     "metadata": {},
     "output_type": "execute_result"
    }
   ],
   "source": [
    "## YOUR SOLUTION HERE ##\n",
    "kitchen['toasters'] = 910\n",
    "\n",
    "# show output\n",
    "kitchen"
   ]
  }
 ],
 "metadata": {
  "kernelspec": {
   "display_name": "Python 3 (ipykernel)",
   "language": "python",
   "name": "python3"
  },
  "language_info": {
   "codemirror_mode": {
    "name": "ipython",
    "version": 3
   },
   "file_extension": ".py",
   "mimetype": "text/x-python",
   "name": "python",
   "nbconvert_exporter": "python",
   "pygments_lexer": "ipython3",
   "version": "3.8.10"
  }
 },
 "nbformat": 4,
 "nbformat_minor": 5
}
