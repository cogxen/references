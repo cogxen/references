{
 "cells": [
  {
   "cell_type": "markdown",
   "id": "079e0e0c",
   "metadata": {},
   "source": [
    "1. Assign the value `12` to the variable name `dozen`"
   ]
  },
  {
   "cell_type": "code",
   "execution_count": 1,
   "id": "b318baec",
   "metadata": {
    "deletable": false,
    "tags": [
     "cp1"
    ]
   },
   "outputs": [
    {
     "data": {
      "text/plain": [
       "12"
      ]
     },
     "execution_count": 1,
     "metadata": {},
     "output_type": "execute_result"
    }
   ],
   "source": [
    "## YOUR SOLUTION HERE ##\n",
    "dozen = 12\n",
    "\n",
    "# show output\n",
    "dozen"
   ]
  },
  {
   "cell_type": "markdown",
   "id": "6a172e5e",
   "metadata": {},
   "source": [
    "2. Assign the string `dozen` to the same variable `dozen`"
   ]
  },
  {
   "cell_type": "code",
   "execution_count": 2,
   "id": "e73ed471",
   "metadata": {
    "deletable": false,
    "tags": [
     "cp2"
    ]
   },
   "outputs": [
    {
     "data": {
      "text/plain": [
       "'dozen'"
      ]
     },
     "execution_count": 2,
     "metadata": {},
     "output_type": "execute_result"
    }
   ],
   "source": [
    "## YOUR SOLUTION HERE ##\n",
    "dozen = \"dozen\"\n",
    "\n",
    "# show output\n",
    "dozen"
   ]
  },
  {
   "cell_type": "markdown",
   "id": "8d481799",
   "metadata": {},
   "source": [
    "3. Complete the code to assign the type of your `dozen` variable to the variable `dozen_type`"
   ]
  },
  {
   "cell_type": "code",
   "execution_count": 3,
   "id": "4ddf801b",
   "metadata": {
    "deletable": false,
    "tags": [
     "cp3"
    ]
   },
   "outputs": [
    {
     "data": {
      "text/plain": [
       "str"
      ]
     },
     "execution_count": 3,
     "metadata": {},
     "output_type": "execute_result"
    }
   ],
   "source": [
    "## YOUR SOLUTION HERE ##\n",
    "dozen_type = type(dozen)\n",
    "\n",
    "# show output\n",
    "dozen_type"
   ]
  },
  {
   "cell_type": "markdown",
   "id": "7ccd29ae",
   "metadata": {},
   "source": [
    "4. Choose a value to assign to the variable `decimal` that will have the type `float`"
   ]
  },
  {
   "cell_type": "code",
   "execution_count": 4,
   "id": "cbcb44c8",
   "metadata": {
    "deletable": false,
    "tags": [
     "cp4"
    ]
   },
   "outputs": [
    {
     "data": {
      "text/plain": [
       "float"
      ]
     },
     "execution_count": 4,
     "metadata": {},
     "output_type": "execute_result"
    }
   ],
   "source": [
    "## YOUR SOLUTION HERE ##\n",
    "decimal = 2.7\n",
    "\n",
    "# show output\n",
    "type(decimal)"
   ]
  },
  {
   "cell_type": "markdown",
   "id": "f4bdc4a5",
   "metadata": {},
   "source": [
    "5. Choose a value to assign to the variable `having_fun` that will have the type `bool`."
   ]
  },
  {
   "cell_type": "code",
   "execution_count": 5,
   "id": "8a03d3b1",
   "metadata": {
    "deletable": false,
    "tags": [
     "cp5"
    ]
   },
   "outputs": [
    {
     "data": {
      "text/plain": [
       "bool"
      ]
     },
     "execution_count": 5,
     "metadata": {},
     "output_type": "execute_result"
    }
   ],
   "source": [
    "## YOUR SOLUTION HERE ##\n",
    "having_fun = True\n",
    "\n",
    "# show type\n",
    "type(having_fun)"
   ]
  },
  {
   "cell_type": "code",
   "execution_count": null,
   "id": "1bd50484",
   "metadata": {},
   "outputs": [],
   "source": []
  }
 ],
 "metadata": {
  "kernelspec": {
   "display_name": "Python 3 (ipykernel)",
   "language": "python",
   "name": "python3"
  },
  "language_info": {
   "codemirror_mode": {
    "name": "ipython",
    "version": 3
   },
   "file_extension": ".py",
   "mimetype": "text/x-python",
   "name": "python",
   "nbconvert_exporter": "python",
   "pygments_lexer": "ipython3",
   "version": "3.8.10"
  }
 },
 "nbformat": 4,
 "nbformat_minor": 5
}
