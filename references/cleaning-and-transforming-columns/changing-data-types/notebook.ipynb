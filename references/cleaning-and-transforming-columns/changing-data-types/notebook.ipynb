{
 "cells": [
  {
   "cell_type": "markdown",
   "id": "687cbb57",
   "metadata": {},
   "source": [
    "Setup"
   ]
  },
  {
   "cell_type": "code",
   "execution_count": 1,
   "id": "047d9dc9",
   "metadata": {
    "deletable": false,
    "tags": [
     "setup"
    ]
   },
   "outputs": [
    {
     "name": "stdout",
     "output_type": "stream",
     "text": [
      "<class 'pandas.core.frame.DataFrame'>\n",
      "RangeIndex: 72 entries, 0 to 71\n",
      "Data columns (total 10 columns):\n",
      " #   Column           Non-Null Count  Dtype  \n",
      "---  ------           --------------  -----  \n",
      " 0   Park             72 non-null     object \n",
      " 1   Location         72 non-null     object \n",
      " 2   AnnualPassPrice  72 non-null     int64  \n",
      " 3   Area             72 non-null     object \n",
      " 4   ParkType         72 non-null     object \n",
      " 5   Visitors2021     72 non-null     int64  \n",
      " 6   Visitors2020     72 non-null     int64  \n",
      " 7   Visitors2019     71 non-null     float64\n",
      " 8   AreaValue        72 non-null     object \n",
      " 9   State            72 non-null     object \n",
      "dtypes: float64(1), int64(3), object(6)\n",
      "memory usage: 5.8+ KB\n"
     ]
    }
   ],
   "source": [
    "import pandas as pd\n",
    "parks = pd.read_csv('nationalpark_visitors.csv')\n",
    "parks['AreaValue'] = parks['Area'].str.split(pat=' ',expand=True)[0]\n",
    "parks['State'] = parks['Location'].str.split(pat=',',expand=True)[1]\n",
    "parks.info()"
   ]
  },
  {
   "cell_type": "markdown",
   "id": "079e0e0c",
   "metadata": {},
   "source": [
    "1. Convert the `AreaValue` column to `float64`."
   ]
  },
  {
   "cell_type": "code",
   "execution_count": 2,
   "id": "b318baec",
   "metadata": {
    "deletable": false,
    "tags": [
     "cp1"
    ]
   },
   "outputs": [],
   "source": [
    "## YOUR SOLUTION HERE ##\n",
    "parks['AreaValue'] = parks['AreaValue'].astype('float64') "
   ]
  },
  {
   "cell_type": "markdown",
   "id": "6a172e5e",
   "metadata": {},
   "source": [
    "2. Convert the `State` column to `category`."
   ]
  },
  {
   "cell_type": "code",
   "execution_count": 3,
   "id": "e73ed471",
   "metadata": {
    "deletable": false,
    "tags": [
     "cp2"
    ]
   },
   "outputs": [],
   "source": [
    "## YOUR SOLUTION HERE ##\n",
    "parks['State'] = parks['State'].astype('category')"
   ]
  },
  {
   "cell_type": "markdown",
   "id": "8d481799",
   "metadata": {},
   "source": [
    "3. Call `.info()` to check that your type reassignments worked."
   ]
  },
  {
   "cell_type": "code",
   "execution_count": 4,
   "id": "4ddf801b",
   "metadata": {
    "deletable": false,
    "tags": [
     "cp3"
    ]
   },
   "outputs": [
    {
     "name": "stdout",
     "output_type": "stream",
     "text": [
      "<class 'pandas.core.frame.DataFrame'>\n",
      "RangeIndex: 72 entries, 0 to 71\n",
      "Data columns (total 10 columns):\n",
      " #   Column           Non-Null Count  Dtype   \n",
      "---  ------           --------------  -----   \n",
      " 0   Park             72 non-null     object  \n",
      " 1   Location         72 non-null     object  \n",
      " 2   AnnualPassPrice  72 non-null     int64   \n",
      " 3   Area             72 non-null     object  \n",
      " 4   ParkType         72 non-null     object  \n",
      " 5   Visitors2021     72 non-null     int64   \n",
      " 6   Visitors2020     72 non-null     int64   \n",
      " 7   Visitors2019     71 non-null     float64 \n",
      " 8   AreaValue        72 non-null     float64 \n",
      " 9   State            72 non-null     category\n",
      "dtypes: category(1), float64(2), int64(3), object(4)\n",
      "memory usage: 6.5+ KB\n"
     ]
    }
   ],
   "source": [
    "## YOUR SOLUTION HERE ##\n",
    "parks.info()"
   ]
  }
 ],
 "metadata": {
  "kernelspec": {
   "display_name": "Python 3 (ipykernel)",
   "language": "python",
   "name": "python3"
  },
  "language_info": {
   "codemirror_mode": {
    "name": "ipython",
    "version": 3
   },
   "file_extension": ".py",
   "mimetype": "text/x-python",
   "name": "python",
   "nbconvert_exporter": "python",
   "pygments_lexer": "ipython3",
   "version": "3.8.10"
  }
 },
 "nbformat": 4,
 "nbformat_minor": 5
}
