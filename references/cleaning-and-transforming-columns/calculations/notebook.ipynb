{
 "cells": [
  {
   "cell_type": "markdown",
   "id": "ac3a2fb8",
   "metadata": {},
   "source": [
    "Setup"
   ]
  },
  {
   "cell_type": "code",
   "execution_count": 1,
   "id": "047d9dc9",
   "metadata": {
    "deletable": false,
    "tags": [
     "setup"
    ]
   },
   "outputs": [
    {
     "data": {
      "text/html": [
       "<div>\n",
       "<style scoped>\n",
       "    .dataframe tbody tr th:only-of-type {\n",
       "        vertical-align: middle;\n",
       "    }\n",
       "\n",
       "    .dataframe tbody tr th {\n",
       "        vertical-align: top;\n",
       "    }\n",
       "\n",
       "    .dataframe thead th {\n",
       "        text-align: right;\n",
       "    }\n",
       "</style>\n",
       "<table border=\"1\" class=\"dataframe\">\n",
       "  <thead>\n",
       "    <tr style=\"text-align: right;\">\n",
       "      <th></th>\n",
       "      <th>Park</th>\n",
       "      <th>Location</th>\n",
       "      <th>AnnualPassPrice</th>\n",
       "      <th>Area</th>\n",
       "      <th>ParkType</th>\n",
       "      <th>Visitors2021</th>\n",
       "      <th>Visitors2020</th>\n",
       "      <th>Visitors2019</th>\n",
       "    </tr>\n",
       "  </thead>\n",
       "  <tbody>\n",
       "    <tr>\n",
       "      <th>0</th>\n",
       "      <td>Great Smoky Mountains</td>\n",
       "      <td>Gatlinburg, TN</td>\n",
       "      <td>40</td>\n",
       "      <td>816.3 sqmi</td>\n",
       "      <td>National park</td>\n",
       "      <td>14161548</td>\n",
       "      <td>12095720</td>\n",
       "      <td>12547743.0</td>\n",
       "    </tr>\n",
       "    <tr>\n",
       "      <th>1</th>\n",
       "      <td>Zion</td>\n",
       "      <td>Springdale, UT</td>\n",
       "      <td>70</td>\n",
       "      <td>229.1 sqmi</td>\n",
       "      <td>National park</td>\n",
       "      <td>5039835</td>\n",
       "      <td>3591254</td>\n",
       "      <td>4488268.0</td>\n",
       "    </tr>\n",
       "    <tr>\n",
       "      <th>2</th>\n",
       "      <td>Yellowstone</td>\n",
       "      <td>Jackson, WY</td>\n",
       "      <td>70</td>\n",
       "      <td>3468.4 sqmi</td>\n",
       "      <td>National park</td>\n",
       "      <td>4860242</td>\n",
       "      <td>3806306</td>\n",
       "      <td>4020288.0</td>\n",
       "    </tr>\n",
       "    <tr>\n",
       "      <th>3</th>\n",
       "      <td>Grand Canyon</td>\n",
       "      <td>Grand Canyon Village, AZ</td>\n",
       "      <td>80</td>\n",
       "      <td>1902.0 sqmi</td>\n",
       "      <td>National park</td>\n",
       "      <td>4532677</td>\n",
       "      <td>2897098</td>\n",
       "      <td>5974411.0</td>\n",
       "    </tr>\n",
       "    <tr>\n",
       "      <th>4</th>\n",
       "      <td>Rocky Mountain</td>\n",
       "      <td>Estes Park, CO</td>\n",
       "      <td>70</td>\n",
       "      <td>414.8 sqmi</td>\n",
       "      <td>National park</td>\n",
       "      <td>4434848</td>\n",
       "      <td>3305199</td>\n",
       "      <td>4670053.0</td>\n",
       "    </tr>\n",
       "  </tbody>\n",
       "</table>\n",
       "</div>"
      ],
      "text/plain": [
       "                    Park                  Location  AnnualPassPrice  \\\n",
       "0  Great Smoky Mountains            Gatlinburg, TN               40   \n",
       "1                   Zion            Springdale, UT               70   \n",
       "2            Yellowstone               Jackson, WY               70   \n",
       "3           Grand Canyon  Grand Canyon Village, AZ               80   \n",
       "4         Rocky Mountain            Estes Park, CO               70   \n",
       "\n",
       "          Area       ParkType  Visitors2021  Visitors2020  Visitors2019  \n",
       "0   816.3 sqmi  National park      14161548      12095720    12547743.0  \n",
       "1   229.1 sqmi  National park       5039835       3591254     4488268.0  \n",
       "2  3468.4 sqmi  National park       4860242       3806306     4020288.0  \n",
       "3  1902.0 sqmi  National park       4532677       2897098     5974411.0  \n",
       "4   414.8 sqmi  National park       4434848       3305199     4670053.0  "
      ]
     },
     "execution_count": 1,
     "metadata": {},
     "output_type": "execute_result"
    }
   ],
   "source": [
    "import pandas as pd\n",
    "parks = pd.read_csv('nationalpark_visitors.csv')\n",
    "parks.head()"
   ]
  },
  {
   "cell_type": "markdown",
   "id": "079e0e0c",
   "metadata": {},
   "source": [
    "1. Calculate a 30% discount to the Grand Canyon and assign it to the variable `amount_saved`. "
   ]
  },
  {
   "cell_type": "code",
   "execution_count": 2,
   "id": "b318baec",
   "metadata": {
    "deletable": false,
    "tags": [
     "cp1"
    ]
   },
   "outputs": [
    {
     "data": {
      "text/plain": [
       "24.0"
      ]
     },
     "execution_count": 2,
     "metadata": {},
     "output_type": "execute_result"
    }
   ],
   "source": [
    "## YOUR SOLUTION HERE ##\n",
    "amount_saved = .3 * 80\n",
    "\n",
    "# show output\n",
    "amount_saved"
   ]
  },
  {
   "cell_type": "markdown",
   "id": "6a172e5e",
   "metadata": {},
   "source": [
    "2. Compute the percent change in visitors to Zion National Park from 2019 to 2020. Assign the percent to the variable `percentchange_2020`."
   ]
  },
  {
   "cell_type": "code",
   "execution_count": 9,
   "id": "e73ed471",
   "metadata": {
    "deletable": false,
    "tags": [
     "cp2"
    ]
   },
   "outputs": [
    {
     "data": {
      "text/plain": [
       "-19.985749514066452"
      ]
     },
     "execution_count": 9,
     "metadata": {},
     "output_type": "execute_result"
    }
   ],
   "source": [
    "## YOUR SOLUTION HERE ##\n",
    "percentchange_2020 =  (3591254- 4488268.0) / 4488268.0 * 100\n",
    "\n",
    "# show output\n",
    "percentchange_2020"
   ]
  },
  {
   "cell_type": "markdown",
   "id": "8d481799",
   "metadata": {},
   "source": [
    "3. Round `percentchange_2020` to two decimal places and assign the rounded percent to a new variable `rounded_percent`."
   ]
  },
  {
   "cell_type": "code",
   "execution_count": 10,
   "id": "4ddf801b",
   "metadata": {
    "deletable": false,
    "tags": [
     "cp3"
    ]
   },
   "outputs": [
    {
     "data": {
      "text/plain": [
       "-19.99"
      ]
     },
     "execution_count": 10,
     "metadata": {},
     "output_type": "execute_result"
    }
   ],
   "source": [
    "## YOUR SOLUTION HERE ##\n",
    "rounded_percent = round(percentchange_2020, 2)\n",
    "\n",
    "# show output\n",
    "rounded_percent"
   ]
  }
 ],
 "metadata": {
  "kernelspec": {
   "display_name": "Python 3 (ipykernel)",
   "language": "python",
   "name": "python3"
  },
  "language_info": {
   "codemirror_mode": {
    "name": "ipython",
    "version": 3
   },
   "file_extension": ".py",
   "mimetype": "text/x-python",
   "name": "python",
   "nbconvert_exporter": "python",
   "pygments_lexer": "ipython3",
   "version": "3.8.10"
  }
 },
 "nbformat": 4,
 "nbformat_minor": 5
}
