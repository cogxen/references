{
 "cells": [
  {
   "cell_type": "markdown",
   "id": "4c609b12",
   "metadata": {},
   "source": [
    "Setup"
   ]
  },
  {
   "cell_type": "code",
   "execution_count": 1,
   "id": "047d9dc9",
   "metadata": {
    "deletable": false,
    "tags": [
     "setup"
    ]
   },
   "outputs": [
    {
     "data": {
      "text/html": [
       "<div>\n",
       "<style scoped>\n",
       "    .dataframe tbody tr th:only-of-type {\n",
       "        vertical-align: middle;\n",
       "    }\n",
       "\n",
       "    .dataframe tbody tr th {\n",
       "        vertical-align: top;\n",
       "    }\n",
       "\n",
       "    .dataframe thead th {\n",
       "        text-align: right;\n",
       "    }\n",
       "</style>\n",
       "<table border=\"1\" class=\"dataframe\">\n",
       "  <thead>\n",
       "    <tr style=\"text-align: right;\">\n",
       "      <th></th>\n",
       "      <th>id</th>\n",
       "      <th>model</th>\n",
       "      <th>year</th>\n",
       "      <th>transmission</th>\n",
       "      <th>manufacturer</th>\n",
       "      <th>vehicle_type</th>\n",
       "      <th>fuel</th>\n",
       "      <th>fuel_configuration</th>\n",
       "      <th>best_mpge</th>\n",
       "    </tr>\n",
       "  </thead>\n",
       "  <tbody>\n",
       "    <tr>\n",
       "      <th>0</th>\n",
       "      <td>12988</td>\n",
       "      <td>amg e53 4matic+ (convertible)</td>\n",
       "      <td>2022</td>\n",
       "      <td>auto</td>\n",
       "      <td>mercedes-benz</td>\n",
       "      <td>sedan/wagon</td>\n",
       "      <td>hybrid electric</td>\n",
       "      <td>hybrid electric</td>\n",
       "      <td>28.0</td>\n",
       "    </tr>\n",
       "    <tr>\n",
       "      <th>1</th>\n",
       "      <td>689</td>\n",
       "      <td>avalanche ffv</td>\n",
       "      <td>2007</td>\n",
       "      <td>auto</td>\n",
       "      <td>chevrolet</td>\n",
       "      <td>pickup</td>\n",
       "      <td>ethanol (e85)</td>\n",
       "      <td>flexible fuel</td>\n",
       "      <td>21.0</td>\n",
       "    </tr>\n",
       "    <tr>\n",
       "      <th>2</th>\n",
       "      <td>950</td>\n",
       "      <td>impala</td>\n",
       "      <td>2010</td>\n",
       "      <td>auto</td>\n",
       "      <td>chevrolet</td>\n",
       "      <td>sedan/wagon</td>\n",
       "      <td>ethanol (e85)</td>\n",
       "      <td>flexible fuel</td>\n",
       "      <td>29.0</td>\n",
       "    </tr>\n",
       "    <tr>\n",
       "      <th>3</th>\n",
       "      <td>250</td>\n",
       "      <td>yukon xl ffv</td>\n",
       "      <td>2004</td>\n",
       "      <td>auto</td>\n",
       "      <td>gmc</td>\n",
       "      <td>suv</td>\n",
       "      <td>ethanol (e85)</td>\n",
       "      <td>flexible fuel</td>\n",
       "      <td>18.0</td>\n",
       "    </tr>\n",
       "    <tr>\n",
       "      <th>4</th>\n",
       "      <td>13089</td>\n",
       "      <td>sf90 spyder</td>\n",
       "      <td>2022</td>\n",
       "      <td>auto</td>\n",
       "      <td>ferrari</td>\n",
       "      <td>sedan/wagon</td>\n",
       "      <td>plug-in hybrid electric</td>\n",
       "      <td>hybrid electric</td>\n",
       "      <td>19.0</td>\n",
       "    </tr>\n",
       "  </tbody>\n",
       "</table>\n",
       "</div>"
      ],
      "text/plain": [
       "      id                          model  year transmission   manufacturer  \\\n",
       "0  12988  amg e53 4matic+ (convertible)  2022         auto  mercedes-benz   \n",
       "1    689                  avalanche ffv  2007         auto      chevrolet   \n",
       "2    950                         impala  2010         auto      chevrolet   \n",
       "3    250                   yukon xl ffv  2004         auto            gmc   \n",
       "4  13089                    sf90 spyder  2022         auto        ferrari   \n",
       "\n",
       "  vehicle_type                     fuel fuel_configuration  best_mpge  \n",
       "0  sedan/wagon          hybrid electric    hybrid electric       28.0  \n",
       "1       pickup            ethanol (e85)      flexible fuel       21.0  \n",
       "2  sedan/wagon            ethanol (e85)      flexible fuel       29.0  \n",
       "3          suv            ethanol (e85)      flexible fuel       18.0  \n",
       "4  sedan/wagon  plug-in hybrid electric    hybrid electric       19.0  "
      ]
     },
     "execution_count": 1,
     "metadata": {},
     "output_type": "execute_result"
    }
   ],
   "source": [
    "import pandas as pd\n",
    "vehicles = pd.read_csv('vehicles.csv')\n",
    "vehicles.head()"
   ]
  },
  {
   "cell_type": "markdown",
   "id": "079e0e0c",
   "metadata": {},
   "source": [
    "1. Use Python to confirm that `28` is less than or equal to `40`."
   ]
  },
  {
   "cell_type": "code",
   "execution_count": 2,
   "id": "b318baec",
   "metadata": {
    "deletable": false,
    "tags": [
     "cp1"
    ]
   },
   "outputs": [
    {
     "data": {
      "text/plain": [
       "True"
      ]
     },
     "execution_count": 2,
     "metadata": {},
     "output_type": "execute_result"
    }
   ],
   "source": [
    "## YOUR SOLUTION HERE ##\n",
    "28 <= 40"
   ]
  },
  {
   "cell_type": "markdown",
   "id": "6a172e5e",
   "metadata": {},
   "source": [
    "2. Create a Boolean mask that is `True` whenever `best_mpge` is greater than or equal to `25`. Assign the Boolean mask to `gt25`."
   ]
  },
  {
   "cell_type": "code",
   "execution_count": 3,
   "id": "e73ed471",
   "metadata": {
    "deletable": false,
    "tags": [
     "cp2"
    ]
   },
   "outputs": [
    {
     "data": {
      "text/plain": [
       "0     True\n",
       "1    False\n",
       "2     True\n",
       "3    False\n",
       "4    False\n",
       "Name: best_mpge, dtype: bool"
      ]
     },
     "execution_count": 3,
     "metadata": {},
     "output_type": "execute_result"
    }
   ],
   "source": [
    "## YOUR SOLUTION HERE ##\n",
    "gt25 = vehicles['best_mpge'] >= 25\n",
    "\n",
    "# show output\n",
    "gt25.head()"
   ]
  },
  {
   "cell_type": "markdown",
   "id": "8d481799",
   "metadata": {},
   "source": [
    "3. Create a Boolean mask that is `True` whenever `vehicle_type` is `sedan/wagon`. Assign the Boolean mask to `is_sedanwagon`."
   ]
  },
  {
   "cell_type": "code",
   "execution_count": 4,
   "id": "4ddf801b",
   "metadata": {
    "deletable": false,
    "tags": [
     "cp3"
    ]
   },
   "outputs": [
    {
     "data": {
      "text/plain": [
       "0     True\n",
       "1    False\n",
       "2     True\n",
       "3    False\n",
       "4     True\n",
       "Name: vehicle_type, dtype: bool"
      ]
     },
     "execution_count": 4,
     "metadata": {},
     "output_type": "execute_result"
    }
   ],
   "source": [
    "## YOUR SOLUTION HERE ##\n",
    "is_sedanwagon = vehicles['vehicle_type'] == 'sedan/wagon'\n",
    "\n",
    "# show output\n",
    "is_sedanwagon.head()"
   ]
  }
 ],
 "metadata": {
  "kernelspec": {
   "display_name": "Python 3 (ipykernel)",
   "language": "python",
   "name": "python3"
  },
  "language_info": {
   "codemirror_mode": {
    "name": "ipython",
    "version": 3
   },
   "file_extension": ".py",
   "mimetype": "text/x-python",
   "name": "python",
   "nbconvert_exporter": "python",
   "pygments_lexer": "ipython3",
   "version": "3.8.10"
  }
 },
 "nbformat": 4,
 "nbformat_minor": 5
}
