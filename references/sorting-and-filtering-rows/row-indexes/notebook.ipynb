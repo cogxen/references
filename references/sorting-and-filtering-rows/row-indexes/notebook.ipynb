{
 "cells": [
  {
   "cell_type": "markdown",
   "id": "28e5f2c4",
   "metadata": {},
   "source": [
    "<details><summary style=\"display:list-item; font-size:16px; color:blue;\">Jupyter Help</summary>\n",
    "    \n",
    "Having trouble testing your work? Double-check that you have followed the steps below to write, run, save, and test your code!\n",
    "    \n",
    "[Click here for a walkthrough GIF of the steps below](https://static-assets.codecademy.com/Courses/ds-python/jupyter-help.gif)\n",
    "\n",
    "Run all initial cells to import libraries and datasets. Then follow these steps for each question:\n",
    "    \n",
    "1. Add your solution to the cell with `## YOUR SOLUTION HERE ## `.\n",
    "2. Run the cell by selecting the `Run` button or the `Shift`+`Enter` keys.\n",
    "3. Save your work by selecting the `Save` button, the `command`+`s` keys (Mac), or `control`+`s` keys (Windows).\n",
    "4. Select the `Test Work` button at the bottom left to test your work.\n",
    "\n",
    "![Screenshot of the buttons at the top of a Jupyter Notebook. The Run and Save buttons are highlighted](https://static-assets.codecademy.com/Paths/ds-python/jupyter-buttons.png)"
   ]
  },
  {
   "cell_type": "markdown",
   "id": "4c609b12",
   "metadata": {},
   "source": [
    "Setup"
   ]
  },
  {
   "cell_type": "code",
   "execution_count": 1,
   "id": "047d9dc9",
   "metadata": {
    "deletable": false,
    "tags": [
     "setup"
    ]
   },
   "outputs": [
    {
     "data": {
      "text/html": [
       "<div>\n",
       "<style scoped>\n",
       "    .dataframe tbody tr th:only-of-type {\n",
       "        vertical-align: middle;\n",
       "    }\n",
       "\n",
       "    .dataframe tbody tr th {\n",
       "        vertical-align: top;\n",
       "    }\n",
       "\n",
       "    .dataframe thead th {\n",
       "        text-align: right;\n",
       "    }\n",
       "</style>\n",
       "<table border=\"1\" class=\"dataframe\">\n",
       "  <thead>\n",
       "    <tr style=\"text-align: right;\">\n",
       "      <th></th>\n",
       "      <th>id</th>\n",
       "      <th>model</th>\n",
       "      <th>year</th>\n",
       "      <th>transmission</th>\n",
       "      <th>manufacturer</th>\n",
       "      <th>vehicle_type</th>\n",
       "      <th>fuel</th>\n",
       "      <th>fuel_configuration</th>\n",
       "      <th>best_mpge</th>\n",
       "    </tr>\n",
       "  </thead>\n",
       "  <tbody>\n",
       "    <tr>\n",
       "      <th>0</th>\n",
       "      <td>12988</td>\n",
       "      <td>amg e53 4matic+ (convertible)</td>\n",
       "      <td>2022</td>\n",
       "      <td>auto</td>\n",
       "      <td>mercedes-benz</td>\n",
       "      <td>sedan/wagon</td>\n",
       "      <td>hybrid electric</td>\n",
       "      <td>hybrid electric</td>\n",
       "      <td>28.0</td>\n",
       "    </tr>\n",
       "    <tr>\n",
       "      <th>1</th>\n",
       "      <td>689</td>\n",
       "      <td>avalanche ffv</td>\n",
       "      <td>2007</td>\n",
       "      <td>auto</td>\n",
       "      <td>chevrolet</td>\n",
       "      <td>pickup</td>\n",
       "      <td>ethanol (e85)</td>\n",
       "      <td>flexible fuel</td>\n",
       "      <td>21.0</td>\n",
       "    </tr>\n",
       "    <tr>\n",
       "      <th>2</th>\n",
       "      <td>950</td>\n",
       "      <td>impala</td>\n",
       "      <td>2010</td>\n",
       "      <td>auto</td>\n",
       "      <td>chevrolet</td>\n",
       "      <td>sedan/wagon</td>\n",
       "      <td>ethanol (e85)</td>\n",
       "      <td>flexible fuel</td>\n",
       "      <td>29.0</td>\n",
       "    </tr>\n",
       "    <tr>\n",
       "      <th>3</th>\n",
       "      <td>250</td>\n",
       "      <td>yukon xl ffv</td>\n",
       "      <td>2004</td>\n",
       "      <td>auto</td>\n",
       "      <td>gmc</td>\n",
       "      <td>suv</td>\n",
       "      <td>ethanol (e85)</td>\n",
       "      <td>flexible fuel</td>\n",
       "      <td>18.0</td>\n",
       "    </tr>\n",
       "    <tr>\n",
       "      <th>4</th>\n",
       "      <td>13089</td>\n",
       "      <td>sf90 spyder</td>\n",
       "      <td>2022</td>\n",
       "      <td>auto</td>\n",
       "      <td>ferrari</td>\n",
       "      <td>sedan/wagon</td>\n",
       "      <td>plug-in hybrid electric</td>\n",
       "      <td>hybrid electric</td>\n",
       "      <td>19.0</td>\n",
       "    </tr>\n",
       "  </tbody>\n",
       "</table>\n",
       "</div>"
      ],
      "text/plain": [
       "      id                          model  year transmission   manufacturer  \\\n",
       "0  12988  amg e53 4matic+ (convertible)  2022         auto  mercedes-benz   \n",
       "1    689                  avalanche ffv  2007         auto      chevrolet   \n",
       "2    950                         impala  2010         auto      chevrolet   \n",
       "3    250                   yukon xl ffv  2004         auto            gmc   \n",
       "4  13089                    sf90 spyder  2022         auto        ferrari   \n",
       "\n",
       "  vehicle_type                     fuel fuel_configuration  best_mpge  \n",
       "0  sedan/wagon          hybrid electric    hybrid electric       28.0  \n",
       "1       pickup            ethanol (e85)      flexible fuel       21.0  \n",
       "2  sedan/wagon            ethanol (e85)      flexible fuel       29.0  \n",
       "3          suv            ethanol (e85)      flexible fuel       18.0  \n",
       "4  sedan/wagon  plug-in hybrid electric    hybrid electric       19.0  "
      ]
     },
     "execution_count": 1,
     "metadata": {},
     "output_type": "execute_result"
    }
   ],
   "source": [
    "import pandas as pd\n",
    "vehicles = pd.read_csv('vehicles.csv')\n",
    "vehicles.head()"
   ]
  },
  {
   "cell_type": "markdown",
   "id": "079e0e0c",
   "metadata": {},
   "source": [
    "1. Display the index of the `vehicles` DataFrame."
   ]
  },
  {
   "cell_type": "code",
   "execution_count": 3,
   "id": "b318baec",
   "metadata": {
    "deletable": false,
    "tags": [
     "cp1"
    ]
   },
   "outputs": [
    {
     "data": {
      "text/plain": [
       "RangeIndex(start=0, stop=2520, step=1)"
      ]
     },
     "execution_count": 3,
     "metadata": {},
     "output_type": "execute_result"
    }
   ],
   "source": [
    "vehicles.index"
   ]
  },
  {
   "cell_type": "markdown",
   "id": "6a172e5e",
   "metadata": {},
   "source": [
    "2. We have already defined a `transmission_counts` series. Display the index of that series."
   ]
  },
  {
   "cell_type": "code",
   "execution_count": 4,
   "id": "e73ed471",
   "metadata": {
    "deletable": false,
    "tags": [
     "cp2"
    ]
   },
   "outputs": [
    {
     "data": {
      "text/plain": [
       "Index(['auto', 'continuously variable', 'unknown', 'single', 'manual',\n",
       "       'transaxle', 'direct drive'],\n",
       "      dtype='object')"
      ]
     },
     "execution_count": 4,
     "metadata": {},
     "output_type": "execute_result"
    }
   ],
   "source": [
    "transmission_counts = vehicles['transmission'].value_counts()\n",
    "## YOUR SOLUTION HERE ##\n",
    "transmission_counts.index"
   ]
  },
  {
   "cell_type": "markdown",
   "id": "8d481799",
   "metadata": {},
   "source": [
    "3. Reset the index of `transmission_counts` to a RangeIndex, and assign the result to `transmissions_counts_reset`."
   ]
  },
  {
   "cell_type": "code",
   "execution_count": 5,
   "id": "4ddf801b",
   "metadata": {
    "deletable": false,
    "tags": [
     "cp3"
    ]
   },
   "outputs": [
    {
     "data": {
      "text/html": [
       "<div>\n",
       "<style scoped>\n",
       "    .dataframe tbody tr th:only-of-type {\n",
       "        vertical-align: middle;\n",
       "    }\n",
       "\n",
       "    .dataframe tbody tr th {\n",
       "        vertical-align: top;\n",
       "    }\n",
       "\n",
       "    .dataframe thead th {\n",
       "        text-align: right;\n",
       "    }\n",
       "</style>\n",
       "<table border=\"1\" class=\"dataframe\">\n",
       "  <thead>\n",
       "    <tr style=\"text-align: right;\">\n",
       "      <th></th>\n",
       "      <th>index</th>\n",
       "      <th>transmission</th>\n",
       "    </tr>\n",
       "  </thead>\n",
       "  <tbody>\n",
       "    <tr>\n",
       "      <th>0</th>\n",
       "      <td>auto</td>\n",
       "      <td>2297</td>\n",
       "    </tr>\n",
       "    <tr>\n",
       "      <th>1</th>\n",
       "      <td>continuously variable</td>\n",
       "      <td>107</td>\n",
       "    </tr>\n",
       "    <tr>\n",
       "      <th>2</th>\n",
       "      <td>unknown</td>\n",
       "      <td>48</td>\n",
       "    </tr>\n",
       "    <tr>\n",
       "      <th>3</th>\n",
       "      <td>single</td>\n",
       "      <td>35</td>\n",
       "    </tr>\n",
       "    <tr>\n",
       "      <th>4</th>\n",
       "      <td>manual</td>\n",
       "      <td>27</td>\n",
       "    </tr>\n",
       "    <tr>\n",
       "      <th>5</th>\n",
       "      <td>transaxle</td>\n",
       "      <td>3</td>\n",
       "    </tr>\n",
       "    <tr>\n",
       "      <th>6</th>\n",
       "      <td>direct drive</td>\n",
       "      <td>3</td>\n",
       "    </tr>\n",
       "  </tbody>\n",
       "</table>\n",
       "</div>"
      ],
      "text/plain": [
       "                   index  transmission\n",
       "0                   auto          2297\n",
       "1  continuously variable           107\n",
       "2                unknown            48\n",
       "3                 single            35\n",
       "4                 manual            27\n",
       "5              transaxle             3\n",
       "6           direct drive             3"
      ]
     },
     "execution_count": 5,
     "metadata": {},
     "output_type": "execute_result"
    }
   ],
   "source": [
    "transmission_counts = vehicles['transmission'].value_counts()\n",
    "## YOUR SOLUTION HERE ##\n",
    "transmission_counts_reset = transmission_counts.reset_index()\n",
    "\n",
    "# show output\n",
    "transmission_counts_reset"
   ]
  }
 ],
 "metadata": {
  "kernelspec": {
   "display_name": "Python 3 (ipykernel)",
   "language": "python",
   "name": "python3"
  },
  "language_info": {
   "codemirror_mode": {
    "name": "ipython",
    "version": 3
   },
   "file_extension": ".py",
   "mimetype": "text/x-python",
   "name": "python",
   "nbconvert_exporter": "python",
   "pygments_lexer": "ipython3",
   "version": "3.8.10"
  }
 },
 "nbformat": 4,
 "nbformat_minor": 5
}
